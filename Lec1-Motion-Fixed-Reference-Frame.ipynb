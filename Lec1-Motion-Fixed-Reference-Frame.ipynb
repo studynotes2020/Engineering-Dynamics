{
 "cells": [
  {
   "cell_type": "markdown",
   "metadata": {},
   "source": [
    "# Motion in Fixed Reference Frame\n",
    "\n",
    "- Models - produce model to describe to problem\n",
    "- Observations - make observations, measurements to see if the models is correct\n",
    "- Feedback to models, try out more observations, go round and round\n",
    "\n",
    "How to attack homework problem?\n",
    "\n",
    "- Describe the motion\n",
    "- Choose a physical law\n",
    "- Apply math\n",
    "\n",
    "Copernicus - 1500\n",
    "\n",
    "Barhe - 1600\n",
    "\n",
    "Kepler - 1609\n",
    "\n",
    "Galileo - 1610 - 1620\n",
    "\n",
    "Descrartes - 1630 - 1644 -> Coordinate system, kinematics\n",
    "\n",
    "Newton - 1643 - 1727. 1666 -> three laws of motion, never talked about angular motion. Use direct method to give equations of motion\n",
    "\n",
    "Euler - 1707 - 1783, angular momentun $\\vec H, \\vec \\tau = \\frac{d\\vec H}{dt}$\n",
    "\n",
    "Lagrange - 1788. Energy, work => Equations of motion\n",
    "\n",
    "\n",
    "## Spring Dashpot system\n",
    "\n",
    "1. Describe the motion. from 0 spring force position\n",
    "\n",
    "2. Apply physics $\\sum_x F = m \\ddot x$\n",
    "\n",
    "Free Body Diagram\n",
    "\n",
    "a) Draw forces in direction in which they act\n",
    "\n",
    "b) Assume positive values for $x, \\dot x$\n",
    "\n",
    "c) Deduce signs from direction of arrow. \n",
    "\n",
    "$f_s = kx$\n",
    "\n",
    "$f_d = b \\dot x$\n",
    "\n",
    "$$\\sum_x = f_s - f_d + mg = -kx - b\\dot x + mg = m\\ddot x$$\n",
    "\n",
    "$$m\\ddot x + b\\dot x + kx = mg$$\n",
    "\n",
    "Hence we get the equations of motion by direct method\n",
    "\n",
    "Another way to derive is using energy. Ignoring heat energy goes out from the system\n",
    "\n",
    "$$E = KE + PE = \\frac12 kx^2 + \\frac12 m\\dot x^2 - mgx$$\n",
    "\n",
    "If no damping, b = 0, the total energy should be constant, time derivative of E is zero\n",
    "\n",
    "$$\\frac{dE}{dt} = 0 = kx\\dot x + m\\dot x\\ddot x - mg\\dot x$$\n",
    "\n",
    "$$ m\\ddot x + kx = mg$$\n",
    "\n",
    "But loss the damping term. Have to go back to consider work done by external force"
   ]
  },
  {
   "cell_type": "markdown",
   "metadata": {},
   "source": [
    "## Reference Frames + Vectors\n",
    "\n",
    "All velocity in the fixed frame is the same\n",
    "\n",
    "tranlation motion, rotaitional motion"
   ]
  },
  {
   "cell_type": "code",
   "execution_count": null,
   "metadata": {},
   "outputs": [],
   "source": []
  }
 ],
 "metadata": {
  "kernelspec": {
   "display_name": "Julia 1.5.0",
   "language": "julia",
   "name": "julia-1.5"
  },
  "language_info": {
   "file_extension": ".jl",
   "mimetype": "application/julia",
   "name": "julia",
   "version": "1.5.0"
  }
 },
 "nbformat": 4,
 "nbformat_minor": 4
}
