{
 "cells": [
  {
   "cell_type": "markdown",
   "metadata": {},
   "source": [
    "1. Using multiple set of frames\n",
    "\n",
    "2. Rotation and translation of rigid bodies\n",
    "\n",
    "3. Finite rotations are not vectors\n",
    "\n",
    "4. Motion, Laws, Math\n",
    "\n",
    "5. Acceleration and velocity in translating and rotating frames\n"
   ]
  },
  {
   "cell_type": "markdown",
   "metadata": {},
   "source": [
    "\n",
    "Cannot add angles as vectors, doesn't work. Rotate x then z and rotate z then x give different results\n",
    "\n",
    "Vectors can apply for velocity, acceleration, angular velocity and angular acceleration but not for angle itself\n",
    "\n",
    "### Problem: A point moving in a rotating frame which is moving in a fixed frame\n",
    "\n",
    "An arm OA rotating with w1. One end fixed at O, another end at A. There is a point B rotating with w2 with origin at A. There are two reference frames, two rotating bodies. Find\n",
    "\n",
    "$$^ov_B$$\n",
    "\n",
    "O is base frame, B is point. A has coordinate x2,y2,z2. O is frame with coordinate x,y,z\n",
    "\n",
    "$$^ov_B = ^ov_A + ^Av_B|_{w=0} + ^ow_B \\times ^AR_B$$\n",
    "\n",
    "frame O rotate with $^ow_1$ and frame A rotate with $^Aw_2$ wrt to arm OA\n",
    "\n",
    "$^ow_B = ^ow_1 + ^{\\text arm OA}w_2 = (w_1 + w_2)\\hat k$ .Parallel unit vector is the same vector $\\hat k_2 = \\hat K$\n",
    "\n",
    "$^ow_B \\times {^AR_B} = (w_1 + w_2)\\hat K \\times l\\hat i_2 = l(w_1 + w_2)\\hat j_2$\n",
    "\n",
    "$^Av_b|_{w=0} = 0$. B is not moving wrt to A. It is a rigid link\n",
    "\n",
    "Here lecturer change O to C. So we also have frame C wrt O\n",
    "\n",
    "$^ov_A = ^ov_c + ^cv_A|_{w=0} + ^0w_1\\hat K \\times R\\hat i_1 = Rw_1\\hat j_1$\n",
    "\n",
    "Collect the results\n",
    "\n",
    "$$^ov_B = Rw_1\\hat j_1 + l(w_1 + w_2)\\hat j_2$$\n",
    "\n"
   ]
  },
  {
   "cell_type": "markdown",
   "metadata": {},
   "source": [
    "## Is $\\hat j_1, \\hat j_2$ the same thing?\n",
    "\n",
    "Write out the relation of each frame to the base frame\n",
    "\n",
    "O, C frame\n",
    "\n",
    "$\\hat i_1 = \\cos\\theta \\hat I + \\sin\\theta \\hat J$\n",
    "\n",
    "$\\hat j_1 = -\\sin\\theta \\hat I + \\cos\\theta \\hat J$\n",
    "\n",
    "A frame\n",
    "\n",
    "$\\hat i_2 = \\cos\\phi \\hat I + \\sin\\phi \\hat J$\n",
    "\n",
    "$\\hat j_2 = -\\sin\\phi \\hat I + \\cos\\phi \\hat J$\n",
    "\n",
    "When A frame lines up with $\\hat I, \\hat J \\implies \\hat j_2 = \\hat J$ and we substitute cos and sine terms for $\\hat j_1$. Then we have converted two rotating frames into a base frame\n",
    "\n",
    "$$^ov_B = Rw_1 (\\cos\\theta \\hat I + \\sin\\theta \\hat J) + l(w_1 + w_2)\\hat J$$"
   ]
  },
  {
   "cell_type": "code",
   "execution_count": null,
   "metadata": {},
   "outputs": [],
   "source": []
  }
 ],
 "metadata": {
  "kernelspec": {
   "display_name": "Julia 1.5.0",
   "language": "julia",
   "name": "julia-1.5"
  },
  "language_info": {
   "file_extension": ".jl",
   "mimetype": "application/julia",
   "name": "julia",
   "version": "1.5.0"
  }
 },
 "nbformat": 4,
 "nbformat_minor": 4
}
